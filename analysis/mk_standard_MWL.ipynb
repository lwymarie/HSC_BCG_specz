{
 "cells": [
  {
   "cell_type": "markdown",
   "metadata": {},
   "source": [
    "# Manually clean cosmic rays and alpha particles"
   ]
  },
  {
   "cell_type": "code",
   "execution_count": 2,
   "metadata": {
    "collapsed": true
   },
   "outputs": [],
   "source": [
    "# imports\n",
    "from astropy.io import fits\n",
    "import matplotlib.pyplot as plt\n",
    "import numpy as np\n",
    "import scipy.signal"
   ]
  },
  {
   "cell_type": "code",
   "execution_count": 3,
   "metadata": {
    "collapsed": false
   },
   "outputs": [],
   "source": [
    "# Read a standard frame\n",
    "#frame = 'r151'\n",
    "frame = 'r160'\n",
    "rstdhdus = fits.open(frame+'.fits')\n",
    "# Unsigned to signed integer\n",
    "rstd_img = rstdhdus[0].data\n",
    "rstd_img.dtype = 'int16'\n",
    "\n",
    "# Do the median filter\n",
    "rstd_sm = scipy.signal.medfilt(rstd_img,21)  # This step takes longest\n",
    "sigma = np.median(np.sqrt(rstd_img))  # assume Poisson\n",
    "bad = (np.abs(rstd_img-rstd_sm)/sigma > 3.)\n",
    "rstd_clean = rstd_img.copy()\n",
    "rstd_clean[bad] = rstd_sm[bad]\n",
    "#rstd_clean[bad] = np.median(r151_img)\n",
    "#obj_start = 210\n",
    "#obj_end = 246\n",
    "obj_start = 212\n",
    "obj_end = 244\n",
    "rstd_clean[:,obj_start:obj_end+1] = rstd_img[:,obj_start:obj_end+1]"
   ]
  },
  {
   "cell_type": "code",
   "execution_count": 4,
   "metadata": {
    "collapsed": false
   },
   "outputs": [],
   "source": [
    "# Write\n",
    "newframe = 'r9999'  # r999, frame r151\n",
    "newhdu = fits.PrimaryHDU(data=rstd_clean,header=rstdhdus[0].header)\n",
    "newhdus = fits.HDUList([newhdu])\n",
    "newhdus.writeto(newframe+'.fits',overwrite=True)"
   ]
  },
  {
   "cell_type": "code",
   "execution_count": 27,
   "metadata": {
    "collapsed": false
   },
   "outputs": [
    {
     "data": {
      "text/plain": [
       "<matplotlib.colorbar.Colorbar at 0x1c2098f950>"
      ]
     },
     "execution_count": 27,
     "metadata": {},
     "output_type": "execute_result"
    },
    {
     "data": {
      "image/png": "[encoded data removed]",
      "text/plain": [
       "<matplotlib.figure.Figure at 0x1c20439510>"
      ]
     },
     "metadata": {},
     "output_type": "display_data"
    }
   ],
   "source": [
    "# Show \n",
    "%matplotlib inline\n",
    "plt.imshow(rstd_clean)\n",
    "plt.colorbar()"
   ]
  },
  {
   "cell_type": "code",
   "execution_count": 29,
   "metadata": {
    "collapsed": false
   },
   "outputs": [
    {
     "data": {
      "text/plain": [
       "32.015621"
      ]
     },
     "execution_count": 29,
     "metadata": {},
     "output_type": "execute_result"
    }
   ],
   "source": [
    "sigma"
   ]
  },
  {
   "cell_type": "code",
   "execution_count": 5,
   "metadata": {
    "collapsed": false
   },
   "outputs": [
    {
     "data": {
      "text/plain": [
       "SIMPLE  =                    T / conforms to FITS standard                      \n",
       "BITPIX  =                   16 / array data type                                \n",
       "NAXIS   =                    2 / number of array dimensions                     \n",
       "NAXIS1  =                  725                                                  \n",
       "NAXIS2  =                 2725                                                  \n",
       "CRVAL1U =                  409 / COLUMN ORIGIN                                  \n",
       "CRVAL2U =                 3400 / ROW ORIGIN                                     \n",
       "CDELT1U =                    1 / COLUMN CHANGE PER PIXEL                        \n",
       "CDELT2U =                   -1 / ROW CHANGE PER PIXEL                           \n",
       "OBSNUM  =                  160 / OBSERVATION NUMBER                             \n",
       "IDNUM   =                    5 / IMAGE ID                                       \n",
       "UGEOM   =                    4 / UCAM READOUT GEOMETRY                          \n",
       "DGEOM   =                    4 / DESCRAMBLE GEOMETRY                            \n",
       "AMPSROW =                    2 / AMPLIFIERS PER ROW                             \n",
       "AMPSCOL =                    1 / AMPLIFIERS PER COLUMN                          \n",
       "OBSTYPE = 'OBJECT'             / IMAGE TYPE                                     \n",
       "EXPTIME =                   60 / Exp time (not counting shutter error)          \n",
       "COMMENT    Real Value = FITS*BSCALE+BZERO                                       \n",
       "PROGRAM = 'NEWCAM'             / New Lick Camera                                \n",
       "VERSION = 'kastr'              / Data acquisition version                       \n",
       "TSEC    =           1495365123 / CLOCK TICK - SECONDS                           \n",
       "TUSEC   =               265302 / CLOCK TICK - MICROSECONDS                      \n",
       "DATE    = '2017-05-21T11:12:03.26' / UT of CCD readout & descramble             \n",
       "DATASEC = '[1:525,1:2725]'         / IRAF/NOAO-style data section               \n",
       "COMMENT End of cards hard-coded in fits_cards                                   \n",
       "COMMENT Begin of cards from other times                                         \n",
       "CSYER2  =     0.01666669920087 / systematic error along direction of WCS axis i \n",
       "CSYER1  =     0.01666669920087 / systematic error along direction of WCS axis i \n",
       "CRDER2  =   0.0001208000030601 / random error along direction of WCS axis i     \n",
       "CRDER1  =   0.0001208000030601 / random error along direction of WCS axis i     \n",
       "CD2_2   =   0.0001135150014306 / CTM element i_j from FITS axis j to WCS axis i \n",
       "CD2_1   =   4.131600144319E-05 / CTM element i_j from FITS axis j to WCS axis i \n",
       "CD1_2   =  -4.131600144319E-05 / CTM element i_j from FITS axis j to WCS axis i \n",
       "CD1_1   =   0.0001135150014306 / CTM element i_j from FITS axis j to WCS axis i \n",
       "CRVAL2  =       32.94855880737 / coord value of WCS axis i at ref pixel         \n",
       "CRVAL1  =       237.9996490479 / coord value of WCS axis i at ref pixel         \n",
       "CRPIX2  =                 1308 / reference pixel along FITS axis j              \n",
       "CRPIX1  =                  215 / reference pixel along FITS axis j              \n",
       "CUNIT2  = 'deg               ' / unit of WCS axis i                             \n",
       "CUNIT1  = 'deg               ' / unit of WCS axis i                             \n",
       "EQUINOX =                 2000 / date of celestial reference frame              \n",
       "RADECSYS= 'FK5               ' / reference system for celestial coordinates     \n",
       "CNAME2  = 'Declination       ' / name of WCS axis i                             \n",
       "CNAME1  = 'Right Ascension   ' / name of WCS axis i                             \n",
       "CTYPE2  = 'DEC--TAN          ' / type of WCS axis i                             \n",
       "CTYPE1  = 'RA---TAN          ' / type of WCS axis i                             \n",
       "WCSNAME = 'Celestial coordinates' / name of WCS                                 \n",
       "CSYER2C =                    0 / systematic error along direction of WCS axis i \n",
       "CSYER1C =                    0 / systematic error along direction of WCS axis i \n",
       "CRDER2C =                    0 / random error along direction of WCS axis i     \n",
       "CRDER1C =                    0 / random error along direction of WCS axis i     \n",
       "CD2_2C  =                   -1 / CTM element i_j from FITS axis j to WCS axis i \n",
       "CD2_1C  =                    0 / CTM element i_j from FITS axis j to WCS axis i \n",
       "CD1_2C  =                    0 / CTM element i_j from FITS axis j to WCS axis i \n",
       "CD1_1C  =                    1 / CTM element i_j from FITS axis j to WCS axis i \n",
       "CRVAL2C =                 3400 / coord value of WCS axis i at ref pixel         \n",
       "CRVAL1C =                  409 / coord value of WCS axis i at ref pixel         \n",
       "CRPIX2C =                  0.5 / reference pixel along FITS axis j              \n",
       "CRPIX1C =                  0.5 / reference pixel along FITS axis j              \n",
       "CUNIT2C = 'CCDpix            ' / unit of WCS axis i                             \n",
       "CUNIT1C = 'CCDpix            ' / unit of WCS axis i                             \n",
       "CNAME2C = 'CCD Y pixel       ' / name of WCS axis i                             \n",
       "CNAME1C = 'CCD X pixel       ' / name of WCS axis i                             \n",
       "CTYPE2C = 'linear            ' / type of WCS axis i                             \n",
       "CTYPE1C = 'linear            ' / type of WCS axis i                             \n",
       "WCSNAMEC= 'CCD pixel coordinates' / name of WCS                                 \n",
       "CSYER2S =     0.01666669920087 / systematic error along direction of WCS axis i \n",
       "CSYER1S =     0.01666669920087 / systematic error along direction of WCS axis i \n",
       "CRDER2S =   0.0001208000030601 / random error along direction of WCS axis i     \n",
       "CRDER1S =   0.0001208000030601 / random error along direction of WCS axis i     \n",
       "CD2_2S  =   0.0001135150014306 / CTM element i_j from FITS axis j to WCS axis i \n",
       "CD2_1S  =   4.131600144319E-05 / CTM element i_j from FITS axis j to WCS axis i \n",
       "CD1_2S  =  -4.131600144319E-05 / CTM element i_j from FITS axis j to WCS axis i \n",
       "CD1_1S  =   0.0001135150014306 / CTM element i_j from FITS axis j to WCS axis i \n",
       "CRVAL2S =       32.94855880737 / coord value of WCS axis i at ref pixel         \n",
       "CRVAL1S =       237.9996490479 / coord value of WCS axis i at ref pixel         \n",
       "CRPIX2S =                 1308 / reference pixel along FITS axis j              \n",
       "CRPIX1S =                  215 / reference pixel along FITS axis j              \n",
       "CUNIT2S = 'deg               ' / unit of WCS axis i                             \n",
       "CUNIT1S = 'deg               ' / unit of WCS axis i                             \n",
       "EQUINOXS=                 2000 / date of celestial reference frame              \n",
       "RADESYSS= 'FK5               ' / reference system for celestial coordinates     \n",
       "CNAME2S = 'Declination       ' / name of WCS axis i                             \n",
       "CNAME1S = 'Right Ascension   ' / name of WCS axis i                             \n",
       "CTYPE2S = 'DEC--TAN          ' / type of WCS axis i                             \n",
       "CTYPE1S = 'RA---TAN          ' / type of WCS axis i                             \n",
       "WCSNAMES= 'Celestial coordinates' / name of WCS                                 \n",
       "CAMERAID=                  140 / CAMERA ID NUMBER                               \n",
       "SUPBLUE =                    0 / Shane line lamp superblue level                \n",
       "OWNERID = '                  ' / OWNERID for archive data                       \n",
       "NSTIME  =                    0 / CONTROLS RISING TIME FOR SUBSTRATE             \n",
       "VSUBEX  =                  300 / SUBSTRATE VOLTAGE DURING EXPOSURE              \n",
       "VSUBER  =                    2 / SUBSTRATE VOLTAGE DURING ERASE                 \n",
       "TCPR1   =                   12 / PRE-IMAGE SERIAL PIXELS                        \n",
       "TSPRD   =                   40 / SAMPLE TIME IN 0.1 MICROSECOND UNITS           \n",
       "TSCLEAN =                   40 / SERIAL CLEAN SAMPLE TIME                       \n",
       "BINSCLN =                    0 / BINNING FOR SERIAL CLEAN                       \n",
       "NHBESP  =                   32 / BINNING FOR SPECIAL ERASE                      \n",
       "MERSP   =                    2 / CONTROLS SPECIAL ERASE MODE                    \n",
       "ERPBIN  =                    5 / PARALLEL BINNING DURING ERASE                  \n",
       "SFREQ   =                    2 / SERIAL CLOCK PERIOD                            \n",
       "CSELPRD =                    0 / PREREAD CLOCK SELECTION                        \n",
       "REVERASE=                    3 / NUMBER OF REVERSE ERASES                       \n",
       "BINPRD  =                    0 / PREREAD SERIAL BINNING                         \n",
       "PADDC   =                    0 / PARALLEL CLOCK CAPACITOR SELECTION             \n",
       "SADDC   =                    2 / SERIAL CLOCK CAP SELECTION                     \n",
       "GEOMCODE=                    0 / READOUT GEOMETRY                               \n",
       "DNAXIS1 =                 1024 / COLUMNS IN SENSOR                              \n",
       "DSENSOR = '2k x 4k Hamamatsu ' / SENSOR DESCRIPTION                             \n",
       "DNAXIS2 =                 4096 / ROWS IN SENSOR                                 \n",
       "UCAMSOFT= '4.08 060812       ' / UCAM SOFTWARE VERSION                          \n",
       "GRTILT_P=                16602 / GRATING TILT PHYSICAL POSITION                 \n",
       "GRISM_N = '600/4310          ' / GRISM POSITION NAME                            \n",
       "GRATNG_O=                    3 / GRATING POSITION ORDINAL NUMBER                \n",
       "BLFILT_O=                    1 / BLUE FILTER TRAY POSITION ORDINAL NUMBER       \n",
       "BLFILT_P=                10550 / BLUE FILTER TRAY PHYSICAL POSITION             \n",
       "WAVEPT_N= '0.0-deg           ' / WAVEPLATE POSITION NAME                        \n",
       "GRISM_O =                    2 / GRISM POSITION ORDINAL NUMBER                  \n",
       "DECKER_P=                 -173 / DECKER PHYSICAL POSITION                       \n",
       "WAVEPT_P=                  485 / WAVEPLATE PHYSICAL POSITION                    \n",
       "LOFILT_O=                    1 / LOWER FILTER WHEEL POSITION ORDINAL NUMBER     \n",
       "LOFILT_P=                 5915 / LOWER FILTER WHEEL PHYSICAL POSITION           \n",
       "UPFILT_O=                    1 / UPPER FILTER WHEEL POSITION ORDINAL NUMBER     \n",
       "UPFILT_P=                 2319 / UPPER FILTER WHEEL PHYSICAL POSITION           \n",
       "SLIT_P  =                 3721 / SLIT PHYSICAL POSITION                         \n",
       "GRATNG_P=                -9300 / GRATING PHYSICAL POSITION                      \n",
       "RCOLIM_P=                -1297 / RED COLLIMATOR PHYSICAL POSITION               \n",
       "USFILT_O=                   -1 / USER FILTER WHEEL POSITION ORDINAL NUMBER      \n",
       "USFILT_P=                -1590 / USER FILTER WHEEL PHYSICAL POSITION            \n",
       "GRISM_P =                  100 / GRISM PHYSICAL POSITION                        \n",
       "BCOLIM_P=                 6331 / BLUE COLLIMATOR PHYSICAL POSITION              \n",
       "RDFILT_O=                    1 / RED FILTER WHEEL POSITION ORDINAL NUMBER       \n",
       "DECKER_N= 'Spect             ' / DECKER POSITION NAME                           \n",
       "OBSERVER= 'Marie Lau         ' / OBSERVER NAME                                  \n",
       "ERASE   =                    3 / NUMBER OF ERASES                               \n",
       "SCLEAN  =                    0 / SERIAL CLEANING CLOCK SELECTION                \n",
       "CSMP    =                    1 / DCS CAP SELECTION                              \n",
       "PSKIP   =                    0 / CONTROLS POST-IMAGE SKIPPING                   \n",
       "PPRERD  =                    4 / PRE-IMAGE ROWS                                 \n",
       "PFREQ   =                    2 / PARALLEL CLOCK PERIOD                          \n",
       "TCPR2   =                    4 / POST-IMAGE SERIAL PIXELS BEFORE OVERSCAN       \n",
       "LAMPSTAA= 'off               ' / Shane line lamp #A status                      \n",
       "LAMPSTA5= 'off               ' / Shane flatfield lamp #5 status                 \n",
       "LAMPSTA4= 'off               ' / Shane flatfield lamp #4 status                 \n",
       "LAMPSTA3= 'off               ' / Shane flatfield lamp #3 status                 \n",
       "LAMPSTA2= 'off               ' / Shane flatfield lamp #2 status                 \n",
       "LAMPSTA1= 'off               ' / Shane flatfield lamp #1 status                 \n",
       "LAMPNAMK= 'Laser             ' / Shane line lamp #K name                        \n",
       "LAMPNAMJ= 'Neon              ' / Shane line lamp #J name                        \n",
       "LAMPNAMI= 'Spare9            ' / Shane line lamp #I name                        \n",
       "LAMPNAMH= 'Hg-A              ' / Shane line lamp #H name                        \n",
       "LAMPNAMG= 'Hg-Cd             ' / Shane line lamp #G name                        \n",
       "LAMPNAMF= 'He                ' / Shane line lamp #F name                        \n",
       "LAMPNAME= 'Dim_Neon          ' / Shane line lamp #E name                        \n",
       "LAMPNAMC= 'Spare3            ' / Shane line lamp #C name                        \n",
       "LAMPNAMB= 'Spare2            ' / Shane line lamp #B name                        \n",
       "LAMPNAMA= 'Spare1            ' / Shane line lamp #A name                        \n",
       "LAMPNAM5= 'Sup_Blue          ' / Shane flatfield lamp #5 name                   \n",
       "LAMPNAM4= 'Spare4            ' / Shane flatfield lamp #4 name                   \n",
       "LAMPNAM3= 'Spare3            ' / Shane flatfield lamp #3 name                   \n",
       "LAMPNAM2= 'Red               ' / Shane flatfield lamp #2 name                   \n",
       "LAMPNAM1= 'Blue              ' / Shane flatfield lamp #1 name                   \n",
       "RCOLIM_V=       -1.52999997139 / RED COLLIMATOR POSITION IN MM                  \n",
       "GRATNG_N= '830/8460          ' / GRATING POSITION NAME                          \n",
       "BLFILT_N= 'Open              ' / BLUE FILTER TRAY POSITION NAME                 \n",
       "BCOLIM_V=       24.89500045776 / BLUE COLLIMATOR POSITION IN MM                 \n",
       "LOFILT_N= 'Open              ' / LOWER FILTER WHEEL POSITION NAME               \n",
       "UPFILT_N= 'Open              ' / UPPER FILTER WHEEL POSITION NAME               \n",
       "SLIT_N  = '1.5 arcsec        ' / SLIT POSITION NAME                             \n",
       "BSPLIT_N= 'd57               ' / BEAM SPLITTER POSITION NAME                    \n",
       "USFILT_N= 'WaveplateOut      ' / USER FILTER WHEEL POSITION NAME                \n",
       "RDFILT_P=                  150 / RED FILTER WHEEL PHYSICAL POSITION             \n",
       "RDFILT_N= 'Open              ' / RED FILTER WHEEL POSITION NAME                 \n",
       "AIRMASS =        1.27999997139 / AIRMASS AT START OF OBSERVATION                \n",
       "LAMPNAMD= 'Spare_Ar          ' / Shane line lamp #D name                        \n",
       "TUB     =       71.59999847412 / TUB POSITION                                   \n",
       "BSPLIT_O= 'Xin               ' / BEAM SPLITTER POSITION                         \n",
       "WAVEPLT =                    1 / WAVE PLATE POSITION                            \n",
       "LAMPSTAK= 'off               ' / Shane line lamp #K status                      \n",
       "LAMPSTAJ= 'off               ' / Shane line lamp #J status                      \n",
       "LAMPSTAI= 'off               ' / Shane line lamp #I status                      \n",
       "LAMPSTAH= 'off               ' / Shane line lamp #H status                      \n",
       "LAMPSTAG= 'off               ' / Shane line lamp #G status                      \n",
       "LAMPSTAF= 'off               ' / Shane line lamp #F status                      \n",
       "LAMPSTAE= 'off               ' / Shane line lamp #E status                      \n",
       "LAMPSTAD= 'off               ' / Shane line lamp #D status                      \n",
       "LAMPSTAC= 'off               ' / Shane line lamp #C status                      \n",
       "LAMPSTAB= 'off               ' / Shane line lamp #B status                      \n",
       "HA      = '03:10:04.68       ' / HOUR ANGLE                                     \n",
       "DEC     = '32:56:55.3        ' / DECLINATION                                    \n",
       "RA      = '15:51:59.91       ' / RIGHT ASCENSION                                \n",
       "DATE-OBS= '2017-05-21T11:11:02.94' / observation date (begin)                   \n",
       "DATE-BEG= '2017-05-21T11:11:02.94' / OBSERVATION BEGIN                          \n",
       "DATE-END= '2017-05-21T11:12:02.94' / OBSERVATION END                            \n",
       "OBJECT  = 'BD+33             '                                                  \n",
       "GAIN    =                    1 / DCS GAIN INDEX                                 \n",
       "MPP     =                    0 / MPP STATE                                      \n",
       "OBSTYPE =                    1 / IMAGE TYPE                                     \n",
       "TEMPDET =               -103.5 / EXPOSURE START DETECTOR TEMPERATURE            \n",
       "NCSHIFT =                    0 / NUMBER OF CHARGE SHUFFLES                      \n",
       "RCSHIFT =                    0 / NUMBER OF ROWS IN EACH CHARGE SHUFFLE          \n",
       "READ-SPD=                   40 / DCS READ SPEED                                 \n",
       "ROVER   =                    0 / NUMBER OF OVERSCAN ROWS                        \n",
       "COVER   =                  100 / NUMBER OF OVERSCAN COLUMNS                     \n",
       "TEMPDETE=                    0 / EXPOSURE END DETECTOR TEMPERATURE              \n",
       "TEMPCON =       31.70000076294 / CONTROLLER TEMPERATURE                         \n",
       "HEATER  =                    0 / HEATER VOLTAGE                                 \n",
       "CKSUMOK =                    T / cd: CHECKSUMS MATCH                            \n",
       "CAMCKSUM=                57617 / cd: CAMERA-COMPUTED CHECKSUM                   \n",
       "SFTCKSUM=                57617 / cd: SOFTWARE-COMPUTED CHECKSUM                 \n",
       "COMMENT End of cards from other times                                           "
      ]
     },
     "execution_count": 5,
     "metadata": {},
     "output_type": "execute_result"
    }
   ],
   "source": [
    "test = fits.open('r9999.fits')\n",
    "test[0].header"
   ]
  },
  {
   "cell_type": "code",
   "execution_count": null,
   "metadata": {
    "collapsed": true
   },
   "outputs": [],
   "source": []
  }
 ],
 "metadata": {
  "kernelspec": {
   "display_name": "Python 2",
   "language": "python",
   "name": "python2"
  },
  "language_info": {
   "codemirror_mode": {
    "name": "ipython",
    "version": 2
   },
   "file_extension": ".py",
   "mimetype": "text/x-python",
   "name": "python",
   "nbconvert_exporter": "python",
   "pygments_lexer": "ipython2",
   "version": "2.7.12"
  }
 },
 "nbformat": 4,
 "nbformat_minor": 0
}
