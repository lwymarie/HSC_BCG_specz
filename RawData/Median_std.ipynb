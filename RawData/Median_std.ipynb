{
 "cells": [
  {
   "cell_type": "code",
   "execution_count": 2,
   "metadata": {
    "collapsed": true
   },
   "outputs": [],
   "source": [
    "from astropy.io import fits\n",
    "import numpy as np"
   ]
  },
  {
   "cell_type": "code",
   "execution_count": 10,
   "metadata": {
    "collapsed": false
   },
   "outputs": [
    {
     "name": "stderr",
     "output_type": "stream",
     "text": [
      "WARNING: AstropyDeprecationWarning: \"clobber\" was deprecated in version 2.0 and will be removed in a future version. Use argument \"overwrite\" instead. [astropy.utils.decorators]\n",
      "WARNING:astropy:AstropyDeprecationWarning: \"clobber\" was deprecated in version 2.0 and will be removed in a future version. Use argument \"overwrite\" instead.\n"
     ]
    }
   ],
   "source": [
    "# test on saving a fits file with its header\n",
    "hdulist = fits.open('2017Jul14/r70.fits')\n",
    "hdulnew = hdulist\n",
    "hdulnew[0].data = np.median([hdulist[0].data,hdulist[0].data],axis=0)\n",
    "hdulnew.writeto('test_median.fits',overwrite=True)"
   ]
  },
  {
   "cell_type": "code",
   "execution_count": 17,
   "metadata": {
    "collapsed": false
   },
   "outputs": [],
   "source": [
    "# Median the Apr10 P330E \n",
    "hdulist0 = fits.open('2018Apr10/r225.fits')\n",
    "hdulist1 = fits.open('2018Apr10/r226.fits')\n",
    "hdulist2 = fits.open('2018Apr10/r227.fits')\n",
    "hdulnew = hdulist0\n",
    "hdulnew[0].data = np.median([hdulist0[0].data,hdulist1[0].data,hdulist2[0].data],axis=0)\n",
    "hdulnew.writeto('2018Apr10/r225med.fits',overwrite=True)"
   ]
  },
  {
   "cell_type": "code",
   "execution_count": 4,
   "metadata": {
    "collapsed": false
   },
   "outputs": [],
   "source": [
    "# Median the Apr14 GD71\n",
    "hdulist0 = fits.open('2018Apr14/r524.fits')\n",
    "hdulist1 = fits.open('2018Apr14/r525.fits')\n",
    "hdulist2 = fits.open('2018Apr14/r526.fits')\n",
    "hdulnew = hdulist0\n",
    "hdulnew[0].data = np.median([hdulist0[0].data,hdulist1[0].data,hdulist2[0].data],axis=0)\n",
    "hdulnew.writeto('2018Apr14/r524med.fits',overwrite=True)"
   ]
  },
  {
   "cell_type": "code",
   "execution_count": 4,
   "metadata": {
    "collapsed": false
   },
   "outputs": [],
   "source": [
    "# Median the Apr14 P330E\n",
    "hdulist0 = fits.open('2018Apr14/r531.fits')\n",
    "hdulist1 = fits.open('2018Apr14/r532.fits')\n",
    "hdulist2 = fits.open('2018Apr14/r533.fits')\n",
    "hdulnew = hdulist0\n",
    "hdulnew[0].data = np.median([hdulist0[0].data,hdulist1[0].data,hdulist2[0].data],axis=0)\n",
    "hdulnew.writeto('2018Apr14/r531med.fits',overwrite=True)"
   ]
  },
  {
   "cell_type": "code",
   "execution_count": null,
   "metadata": {
    "collapsed": true
   },
   "outputs": [],
   "source": [
    "# Median the Apr21 GD71\n",
    "hdulist0 = fits.open('2018Apr21/r624.fits')\n",
    "hdulist1 = fits.open('2018Apr21/r625.fits')\n",
    "hdulist2 = fits.open('2018Apr21/r626.fits')\n",
    "hdulnew = hdulist0\n",
    "hdulnew[0].data = np.median([hdulist0[0].data,hdulist1[0].data,hdulist2[0].data],axis=0)\n",
    "hdulnew.writeto('2018Apr21/r624med.fits',overwrite=True)"
   ]
  },
  {
   "cell_type": "code",
   "execution_count": null,
   "metadata": {
    "collapsed": true
   },
   "outputs": [],
   "source": [
    "# Median the Apr21 P330E\n",
    "hdulist0 = fits.open('2018Apr21/r635.fits')\n",
    "hdulist1 = fits.open('2018Apr21/r636.fits')\n",
    "hdulist2 = fits.open('2018Apr21/r637.fits')\n",
    "hdulnew = hdulist0\n",
    "hdulnew[0].data = np.median([hdulist0[0].data,hdulist1[0].data,hdulist2[0].data],axis=0)\n",
    "hdulnew.writeto('2018Apr21/r635med.fits',overwrite=True)"
   ]
  },
  {
   "cell_type": "code",
   "execution_count": null,
   "metadata": {
    "collapsed": true
   },
   "outputs": [],
   "source": [
    "# Median the May10 Feige67\n",
    "hdulist0 = fits.open('2018May10/r724.fits')\n",
    "hdulist1 = fits.open('2018May10/r725.fits')\n",
    "hdulist2 = fits.open('2018May10/r726.fits')\n",
    "hdulnew = hdulist0\n",
    "hdulnew[0].data = np.median([hdulist0[0].data,hdulist1[0].data,hdulist2[0].data],axis=0)\n",
    "hdulnew.writeto('2018May10/r724med.fits',overwrite=True)"
   ]
  },
  {
   "cell_type": "code",
   "execution_count": 3,
   "metadata": {
    "collapsed": false
   },
   "outputs": [],
   "source": [
    "# Median the May11 P330E\n",
    "hdulist0 = fits.open('2018May10/r733.fits')\n",
    "hdulist1 = fits.open('2018May10/r734.fits')\n",
    "hdulist2 = fits.open('2018May10/r735.fits')\n",
    "hdulnew = hdulist0\n",
    "hdulnew[0].data = np.median([hdulist0[0].data,hdulist1[0].data,hdulist2[0].data],axis=0)\n",
    "hdulnew.writeto('2018May10/r733med.fits',overwrite=True)"
   ]
  },
  {
   "cell_type": "code",
   "execution_count": null,
   "metadata": {
    "collapsed": true
   },
   "outputs": [],
   "source": []
  }
 ],
 "metadata": {
  "kernelspec": {
   "display_name": "Python 2",
   "language": "python",
   "name": "python2"
  },
  "language_info": {
   "codemirror_mode": {
    "name": "ipython",
    "version": 2
   },
   "file_extension": ".py",
   "mimetype": "text/x-python",
   "name": "python",
   "nbconvert_exporter": "python",
   "pygments_lexer": "ipython2",
   "version": "2.7.12"
  }
 },
 "nbformat": 4,
 "nbformat_minor": 0
}
